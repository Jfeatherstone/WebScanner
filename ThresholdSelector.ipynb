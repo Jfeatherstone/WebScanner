{
 "cells": [
  {
   "cell_type": "code",
   "execution_count": 1,
   "id": "5f65ead9-0da9-4a7d-b6c1-2d0870bcbe22",
   "metadata": {},
   "outputs": [],
   "source": [
    "import numpy as np\n",
    "import matplotlib.pyplot as plt\n",
    "\n",
    "import cv2\n",
    "import tqdm\n",
    "from PIL import Image"
   ]
  },
  {
   "cell_type": "code",
   "execution_count": 2,
   "id": "2f00aa33-88e7-4a86-b03b-4f8c2c911392",
   "metadata": {},
   "outputs": [],
   "source": [
    "videoPath = '/home/jack/Videos/2023-02-09_Test_Cropped_Power1.mp4'\n",
    "meanBasedThreshold = False\n",
    "thresholdValues = [10, 30, 60, 100]\n",
    "greenChannel = 1"
   ]
  },
  {
   "cell_type": "code",
   "execution_count": 3,
   "id": "6dab763b-e54a-4955-9a0b-ba7f52a14330",
   "metadata": {},
   "outputs": [],
   "source": [
    "def getVideoFrames(videoPath):\n",
    "    cam = cv2.VideoCapture(videoPath)\n",
    "\n",
    "    frames = []\n",
    "\n",
    "    while(True):\n",
    "        ret, frame = cam.read()\n",
    "\n",
    "        if ret:\n",
    "            frames.append(frame.astype(np.uint8))\n",
    "\n",
    "        else:\n",
    "            break\n",
    "\n",
    "    return frames\n",
    "\n",
    "videoName = videoPath.split('/')[-1][:-4]\n",
    "videoFrames = getVideoFrames(videoPath)\n",
    "\n",
    "#regionOfInterest = [[None,None], [None,None]]\n",
    "\n",
    "regionOfInterest = [[340, 800], # y\n",
    "                    [700, 1200]] # x\n",
    "\n",
    "videoFrames = [v[regionOfInterest[0][0]:regionOfInterest[0][1],regionOfInterest[1][0]:regionOfInterest[1][1]] for v in videoFrames]"
   ]
  },
  {
   "cell_type": "code",
   "execution_count": 4,
   "id": "e2156b10-db48-4625-a2ab-0031c2460010",
   "metadata": {},
   "outputs": [],
   "source": [
    "thresholdFrames = np.zeros((len(thresholdValues), len(videoFrames), *videoFrames[0].shape[:2]))\n",
    "\n",
    "for j in range(len(thresholdValues)):\n",
    "\n",
    "    for i in range(len(thresholdFrames[0])):\n",
    "        thresholdFrames[j,i] = videoFrames[i][:,:,greenChannel]\n",
    "        thresholdFrames[j,i][np.where(thresholdFrames[j,i] < thresholdValues[j])] = 0\n",
    "        thresholdFrames[j,i][np.where(thresholdFrames[j,i] > 0)] = 255 # Only for displaying, shouldn't be done in the reconstruction process\n"
   ]
  },
  {
   "cell_type": "code",
   "execution_count": 5,
   "id": "f10d378e-394f-4ced-8da9-717b7888ee3e",
   "metadata": {},
   "outputs": [
    {
     "name": "stderr",
     "output_type": "stream",
     "text": [
      "100%|███████████████████████████████| 393/393 [01:27<00:00,  4.47it/s]\n"
     ]
    }
   ],
   "source": [
    "images = []\n",
    "\n",
    "fps = 20\n",
    "loop = 0\n",
    "dsFactor = 4\n",
    "\n",
    "for i in tqdm.tqdm(range(len(videoFrames)//dsFactor)):\n",
    "    \n",
    "    fig, ax = plt.subplots(1, len(thresholdFrames), figsize=(len(thresholdFrames)*5, 5))\n",
    "\n",
    "    for j in range(len(thresholdFrames)):\n",
    "        ax[j].imshow(thresholdFrames[j][i*dsFactor])\n",
    "        ax[j].set_xticks([])\n",
    "        ax[j].set_yticks([])\n",
    "        ax[j].set_title(f'Threshold: {thresholdValues[j]}')\n",
    "    \n",
    "    fig.suptitle(f'Frame {i*dsFactor}')\n",
    "    fig.tight_layout()\n",
    "    canvas = plt.get_current_fig_manager().canvas\n",
    "    canvas.draw()\n",
    "\n",
    "    images.append(Image.frombytes('RGB', canvas.get_width_height(),\n",
    "                 canvas.tostring_rgb()))\n",
    "    \n",
    "    plt.close()\n",
    "\n",
    "images[0].save(f'images/{videoName}_threshold_testing.gif', save_all=True, append_images=images[1:], duration=fps, loop=loop)"
   ]
  },
  {
   "cell_type": "code",
   "execution_count": null,
   "id": "c2f64b9e-caa5-46dc-bb39-fba0929ab7c1",
   "metadata": {},
   "outputs": [],
   "source": []
  }
 ],
 "metadata": {
  "kernelspec": {
   "display_name": "Python 3 (ipykernel)",
   "language": "python",
   "name": "python3"
  },
  "language_info": {
   "codemirror_mode": {
    "name": "ipython",
    "version": 3
   },
   "file_extension": ".py",
   "mimetype": "text/x-python",
   "name": "python",
   "nbconvert_exporter": "python",
   "pygments_lexer": "ipython3",
   "version": "3.7.13"
  }
 },
 "nbformat": 4,
 "nbformat_minor": 5
}
