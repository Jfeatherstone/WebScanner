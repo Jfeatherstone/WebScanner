{
 "cells": [
  {
   "cell_type": "code",
   "execution_count": 1,
   "id": "d568d44b-31bf-449a-9407-1fbbfe585d97",
   "metadata": {},
   "outputs": [],
   "source": [
    "import numpy as np"
   ]
  },
  {
   "cell_type": "code",
   "execution_count": 11,
   "id": "faf60f47-8fe7-4097-b505-5341e330736a",
   "metadata": {},
   "outputs": [
    {
     "name": "stdout",
     "output_type": "stream",
     "text": [
      "3.9603960396039604 0.6784675878709707\n"
     ]
    }
   ],
   "source": [
    "a = [.24, .31, .21, .31, .20, .22, .23, .25, .25, .31, .20, .30]\n",
    "print(1 / np.mean(a), np.mean(np.abs(1 / np.mean(a) - np.array([1 / (np.mean(a) + np.std(a)), 1 / (np.mean(a) - np.std(a))]))))"
   ]
  },
  {
   "cell_type": "code",
   "execution_count": 10,
   "id": "9e259123-ed18-4529-91c7-474a25af248c",
   "metadata": {},
   "outputs": [
    {
     "data": {
      "text/plain": [
       "4.761904761904762"
      ]
     },
     "execution_count": 10,
     "metadata": {},
     "output_type": "execute_result"
    }
   ],
   "source": [
    "1/.21"
   ]
  },
  {
   "cell_type": "code",
   "execution_count": 19,
   "id": "8105a9f8-431a-49a8-85b0-d61427587108",
   "metadata": {},
   "outputs": [
    {
     "name": "stdout",
     "output_type": "stream",
     "text": [
      "19.783333333333335 0.24608038433722396\n"
     ]
    }
   ],
   "source": [
    "a = [20.10, 19.75, 19.50]\n",
    "print(np.mean(a), np.std(a))"
   ]
  },
  {
   "cell_type": "code",
   "execution_count": null,
   "id": "ee683035-f83a-4e62-bf0e-da8355e12168",
   "metadata": {},
   "outputs": [],
   "source": []
  }
 ],
 "metadata": {
  "kernelspec": {
   "display_name": "Python 3 (ipykernel)",
   "language": "python",
   "name": "python3"
  },
  "language_info": {
   "codemirror_mode": {
    "name": "ipython",
    "version": 3
   },
   "file_extension": ".py",
   "mimetype": "text/x-python",
   "name": "python",
   "nbconvert_exporter": "python",
   "pygments_lexer": "ipython3",
   "version": "3.7.13"
  }
 },
 "nbformat": 4,
 "nbformat_minor": 5
}
